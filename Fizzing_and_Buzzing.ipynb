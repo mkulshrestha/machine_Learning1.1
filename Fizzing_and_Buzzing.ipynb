{
 "cells": [
  {
   "cell_type": "code",
   "execution_count": 2,
   "metadata": {},
   "outputs": [
    {
     "name": "stderr",
     "output_type": "stream",
     "text": [
      "Using TensorFlow backend.\n"
     ]
    }
   ],
   "source": [
    "import numpy as np\n",
    "import tensorflow as tf\n",
    "from tqdm import tqdm_notebook\n",
    "import pandas as pd\n",
    "from keras.utils import np_utils\n",
    "%matplotlib inline"
   ]
  },
  {
   "cell_type": "markdown",
   "metadata": {},
   "source": [
    "## Logic Based FizzBuzz Function [Software 1.0]"
   ]
  },
  {
   "cell_type": "code",
   "execution_count": 3,
   "metadata": {},
   "outputs": [],
   "source": [
    "def fizzbuzz(n):\n",
    "   \n",
    "    # Logic Explanation\n",
    "    if n % 3 == 0 and n % 5 == 0:\n",
    "        return 'FizzBuzz'\n",
    "    elif n % 3 == 0:\n",
    "        return 'Fizz'\n",
    "    elif n % 5 == 0:\n",
    "        return 'Buzz'\n",
    "    else:\n",
    "        return 'Other'\n",
    "   "
   ]
  },
  {
   "cell_type": "markdown",
   "metadata": {},
   "source": [
    "## Create Training and Testing Datasets in CSV Format"
   ]
  },
  {
   "cell_type": "code",
   "execution_count": 4,
   "metadata": {},
   "outputs": [],
   "source": [
    "def createInputCSV(start,end,filename):\n",
    "    \n",
    "    # Why list in Python?\n",
    "\n",
    "    #Inputdata and outputdata are two vectors or array which will contain input data and \n",
    "    #output data \n",
    "    #and once the fizzbuzz is executed the output is generated. \n",
    "    #so that later when dataset is being created (2 columns- one for number and the other one for \n",
    "    #label) this data is fed into it.\n",
    "\n",
    "    inputData   = []  #this will later contain the number \n",
    "    outputData  = []  #output data will contain the output i.e.fizz, buzz, fizzbuzz, or other\n",
    "    \n",
    "    # Why do we need training Data?\n",
    "\n",
    "         #Software 1.0 does not need training data to output the correct answers.\n",
    "         #since for software 2.0 we cannot simply use control statements like if a%3 is 0: print(\"fizz\")or if a%5==0:print(\"buzz\").\n",
    "         #Instead we first give our program a training data, which should ideally help it learn what input is associated with fizz,\n",
    "         #buzz, fizzbuzz or other.\n",
    "\n",
    "    for i in range(start,end):\n",
    "        inputData.append(i)\n",
    "        outputData.append(fizzbuzz(i))  \n",
    "\n",
    "                                        #This is executing the software 1.0 and is saving the result\n",
    "                                        #in outputdata[]. which is will late be saved in the label column of\n",
    "                                        #the dataset.\n",
    "                                        #this is called two times one for training.csv and other for \n",
    "                                        #testing.csv with different start and end parameters.\n",
    "\n",
    "    # Why Dataframe?\n",
    "\n",
    "#   dataframe is collection of data that is organised into columns. so for the follwing dataframe there will be two columns \n",
    "#    namely input and label(label will determine that in what class or category does the output falls in.)\n",
    "\n",
    "    dataset = {}\n",
    "    dataset[\"input\"]  = inputData\n",
    "    dataset[\"label\"] = outputData\n",
    "    \n",
    "    # Writing to csv\n",
    "    pd.DataFrame(dataset).to_csv(filename)\n",
    "    \n",
    "    print(filename, \"Created!\")\n",
    "    \n",
    "  "
   ]
  },
  {
   "cell_type": "markdown",
   "metadata": {},
   "source": [
    "## Processing Input and Label Data"
   ]
  },
  {
   "cell_type": "code",
   "execution_count": 5,
   "metadata": {},
   "outputs": [],
   "source": [
    "def processData(dataset):\n",
    "    \n",
    "    # Why do we have to process?\n",
    "    '''\n",
    "    Now since the dataset with the collection of data that is organised into two columns \"input\" and \"label\" \n",
    "    has been created. The follwing processing basically picks up the data from that dataset and puts the values \n",
    "    into variables named data and labels. Furthermore processedData and processedLabel get the encoded version of this data.\n",
    "    we cannot directly feed in the raw data because then it is possible that the program might find some unwanted\n",
    "    corelation between the data. \n",
    "    '''\n",
    "    data = dataset['input'].values\n",
    "    labels = dataset['label'].values\n",
    "    \n",
    "    processedData  = encodeData(data)\n",
    "    processedLabel = encodeLabel(labels)\n",
    "    \n",
    "    return processedData, processedLabel"
   ]
  },
  {
   "cell_type": "code",
   "execution_count": 6,
   "metadata": {},
   "outputs": [],
   "source": [
    "import numpy as np\n",
    "\n",
    "def encodeData(data):\n",
    "    \n",
    "    processedData = []\n",
    "    \n",
    "    for dataInstance in data:\n",
    "        \n",
    "        # Why do we have number 10?\n",
    "        '''\n",
    "        The training data consists of numbers in the range {101, 1000}. this calculates to 1000-101+1= 900. \n",
    "        To represent 900 numbers in binary we need atleast 10 bits(why- because 2**10=1024. why not 2**9 because \n",
    "        2**9=512.\n",
    "        9 places wont be able to represent more than 512 numbers(0-511) . So the follwing function converts each input number\n",
    "        into a binary consisting 10 places of 1s or 0s.\n",
    "        '''\n",
    "        processedData.append([dataInstance >> d & 1 for d in range(10)])\n",
    "    \n",
    "    return np.array(processedData)"
   ]
  },
  {
   "cell_type": "code",
   "execution_count": 7,
   "metadata": {},
   "outputs": [],
   "source": [
    "def encodeLabel(labels):\n",
    "    '''\n",
    "    After I referred to this blog: https://hackernoon.com/what-is-one-hot-encoding-why-and-when-do-you-have-to-use-it-e3c6186d008f \n",
    "    why didnt we use \"ONE HOT ENCODING\" for categorizing the output i.e. Later i understood that np_utils.to_categorical is doing \n",
    "    that job.\n",
    "       \n",
    "    '''\n",
    "    \n",
    "    processedLabel = []\n",
    "    \n",
    "    for labelInstance in labels:\n",
    "        if(labelInstance == \"FizzBuzz\"):\n",
    "            # Fizzbuzz\n",
    "            processedLabel.append([3])\n",
    "        elif(labelInstance == \"Fizz\"):\n",
    "            # Fizz\n",
    "            processedLabel.append([1])\n",
    "        elif(labelInstance == \"Buzz\"):\n",
    "            # Buzz\n",
    "            processedLabel.append([2])\n",
    "        else:\n",
    "            # Other\n",
    "            processedLabel.append([0])\n",
    "            \n",
    "    return np_utils.to_categorical(np.array(processedLabel),4)\n",
    "                                         \n",
    "                                         #   the np_utils.to_categorical() is doing the follwing task i.e. ONE HOT ENCODING :\n",
    "                                       # if(labelInstance==\"fizz\"):\n",
    "                                            #processedLabel.append([0,1,0,0])\n",
    "                                            #elif(labelInstance==\"buzz\"):\n",
    "                                           # processedLabel.append([0,0,1,0])\n",
    "                                          #  if(labelInstance==\"fizzbuzz\"):\n",
    "                                         #   processedLabel.append([0,0,0,1])\n",
    "                                        #else:\n",
    "                                        #    processedLabel.append([1,0,0,0]) #number not divisible by either 3 or 5. \n",
    "                                        \n",
    "label={\"Fizz\",\"Buzz\",\"FizzBuzz\",\"other\"}    \n"
   ]
  },
  {
   "cell_type": "code",
   "execution_count": 8,
   "metadata": {},
   "outputs": [
    {
     "name": "stdout",
     "output_type": "stream",
     "text": [
      "training.csv Created!\n",
      "testing.csv Created!\n"
     ]
    }
   ],
   "source": [
    "# Create datafiles\n",
    "createInputCSV(101,1001,'training.csv')\n",
    "createInputCSV(1,101,'testing.csv')"
   ]
  },
  {
   "cell_type": "code",
   "execution_count": 9,
   "metadata": {},
   "outputs": [],
   "source": [
    "# Read Dataset\n",
    "trainingData = pd.read_csv('training.csv')\n",
    "testingData  = pd.read_csv('testing.csv')\n",
    "'''\n",
    "this is where training dataset and testing dataset are copied into their respective process \n",
    "dataset for use in our model.\n",
    "'''\n",
    "# Process Dataset\n",
    "processedTrainingData, processedTrainingLabel = processData(trainingData)\n",
    "processedTestingData, processedTestingLabel   = processData(testingData)"
   ]
  },
  {
   "cell_type": "markdown",
   "metadata": {},
   "source": [
    "## Tensorflow Model Definition"
   ]
  },
  {
   "cell_type": "code",
   "execution_count": 10,
   "metadata": {},
   "outputs": [],
   "source": [
    "# Defining Placeholder\n",
    "'''\n",
    "this is just a placeholder that it doesnt contain any data yet.\n",
    "'''\n",
    "inputTensor  = tf.placeholder(tf.float32, [None, 10])\n",
    "outputTensor = tf.placeholder(tf.float32, [None, 4])"
   ]
  },
  {
   "cell_type": "code",
   "execution_count": 20,
   "metadata": {},
   "outputs": [],
   "source": [
    "\n",
    "NUM_HIDDEN_NEURONS_LAYER_1 = 100  #this declares number of neurons or nodes in the hidden layer \n",
    "LEARNING_RATE = 0.05  \n",
    "'''                     learning rate is a hyperparameter that \n",
    "                        can be varied for changing to the accuracy of the output. by changing this \n",
    "                        the efficiency of the model changes(increase or decrease).\n",
    "'''\n",
    "# Initializing the weights to Normal Distribution\n",
    "'''\n",
    "we are initializing the weights randomly which makes sense becuase in the begining \n",
    "we have no idea what weights might work and what might not. \n",
    "'''\n",
    "def init_weights(shape):\n",
    "    return tf.Variable(tf.random_normal(shape,stddev=0.01))\n",
    "\n",
    "# Initializing the input to hidden layer weights\n",
    "input_hidden_weights  = init_weights([10, NUM_HIDDEN_NEURONS_LAYER_1]) #initializing the weights from input layer that has\n",
    "                                                                       #10 nodes to the hidden layer that has 100 nodes\n",
    "                                                                                    \n",
    "# Initializing the hidden to output layer weights\n",
    "hidden_output_weights = init_weights([NUM_HIDDEN_NEURONS_LAYER_1, 4]) #initiating weights from hidden layer with 100 nodes \n",
    "                                                                      #to the output layer which has 4 nodes.\n",
    "                                                                      \n",
    "\n",
    "# Computing values at the hidden layer\n",
    "hidden_layer = tf.nn.relu(tf.matmul(inputTensor, input_hidden_weights)) \n",
    "'''\n",
    "    the activation function used at the hidden layer is called relu. relu stands for rectified linear unit.\n",
    "    what Relu essentially does is that it tranforms any negative value to ZERO and keeps the non-negative values as they are.\n",
    "'''\n",
    "# Computing values at the output layer\n",
    "output_layer = tf.matmul(hidden_layer, hidden_output_weights)\n",
    "\n",
    "# Defining Error Function\n",
    "error_function = tf.reduce_mean(tf.nn.softmax_cross_entropy_with_logits(logits=output_layer, labels=outputTensor))\n",
    "'''\n",
    "    the error function that we are usign the the output layer is the softmax cross entropy \n",
    "'''\n",
    "\n",
    "# Defining Learning Algorithm and Training Parameters\n",
    "training = tf.train.GradientDescentOptimizer(LEARNING_RATE).minimize(error_function)\n",
    "\n",
    "# Prediction Function\n",
    "prediction = tf.argmax(output_layer, 1)"
   ]
  },
  {
   "cell_type": "markdown",
   "metadata": {},
   "source": [
    "# Training the Model"
   ]
  },
  {
   "cell_type": "code",
   "execution_count": 24,
   "metadata": {},
   "outputs": [
    {
     "data": {
      "text/plain": [
       "HBox(children=(IntProgress(value=0, max=5000), HTML(value='')))"
      ]
     },
     "metadata": {},
     "output_type": "display_data"
    },
    {
     "name": "stdout",
     "output_type": "stream",
     "text": [
      "\n"
     ]
    }
   ],
   "source": [
    "NUM_OF_EPOCHS = 5000   \n",
    "'''\n",
    "                        number of EPOCH and BATCH SIZE are also hyperparameters since \n",
    "                        they are being set before the training begins and they influence the training accuracy. \n",
    "'''\n",
    "BATCH_SIZE = 128\n",
    "\n",
    "training_accuracy = []\n",
    "batch=[]\n",
    "\n",
    "with tf.Session() as sess:\n",
    "    \n",
    "    # Set Global Variables ?\n",
    "    tf.global_variables_initializer().run()\n",
    "    \n",
    "    for epoch in tqdm_notebook(range(NUM_OF_EPOCHS)):\n",
    "        \n",
    "        #Shuffle the Training Dataset at each epoch\n",
    "        p = np.random.permutation(range(len(processedTrainingData)))\n",
    "        processedTrainingData  = processedTrainingData[p]\n",
    "        processedTrainingLabel = processedTrainingLabel[p]\n",
    "        \n",
    "        # Start batch training\n",
    "        for start in range(0, len(processedTrainingData), BATCH_SIZE):\n",
    "            end = start + BATCH_SIZE\n",
    "            sess.run(training, feed_dict={inputTensor: processedTrainingData[start:end], \n",
    "                                          outputTensor: processedTrainingLabel[start:end]})\n",
    "      \n",
    "        # Training accuracy for an epoch\n",
    "        training_accuracy.append(np.mean(np.argmax(processedTrainingLabel, axis=1) ==\n",
    "                             sess.run(prediction, feed_dict={inputTensor: processedTrainingData,\n",
    "                                                             outputTensor: processedTrainingLabel})))\n",
    "    # Testing\n",
    "    predictedTestLabel = sess.run(prediction, feed_dict={inputTensor: processedTestingData})"
   ]
  },
  {
   "cell_type": "code",
   "execution_count": 26,
   "metadata": {},
   "outputs": [
    {
     "data": {
      "text/plain": [
       "<matplotlib.axes._subplots.AxesSubplot at 0x25e70e4ee48>"
      ]
     },
     "execution_count": 26,
     "metadata": {},
     "output_type": "execute_result"
    },
    {
     "data": {
      "image/png": "[encoded data removed]",
      "text/plain": [
       "<Figure size 432x288 with 1 Axes>"
      ]
     },
     "metadata": {
      "needs_background": "light"
     },
     "output_type": "display_data"
    }
   ],
   "source": [
    "df = pd.DataFrame()\n",
    "df['acc'] = training_accuracy\n",
    "\n",
    "df.plot(grid=True)"
   ]
  },
  {
   "cell_type": "code",
   "execution_count": 27,
   "metadata": {},
   "outputs": [],
   "source": [
    "'''\n",
    "Remember that we did one hot encoding to represent the 4 classes into binary representation. \n",
    "Here we decode those into FIZZ, BUZZ, FIZZBUZZ AND OTHER.\n",
    "'''\n",
    "\n",
    "def decodeLabel(encodedLabel):\n",
    "    if encodedLabel == 0:\n",
    "        return \"Other\"\n",
    "    elif encodedLabel == 1:\n",
    "        return \"Fizz\"\n",
    "    elif encodedLabel == 2:\n",
    "        return \"Buzz\"\n",
    "    elif encodedLabel == 3:\n",
    "        return \"FizzBuzz\""
   ]
  },
  {
   "cell_type": "markdown",
   "metadata": {},
   "source": [
    "# Testing the Model [Software 2.0]"
   ]
  },
  {
   "cell_type": "code",
   "execution_count": 29,
   "metadata": {},
   "outputs": [
    {
     "name": "stdout",
     "output_type": "stream",
     "text": [
      "Errors: 9  Correct :91\n",
      "Testing Accuracy: 91.0\n"
     ]
    }
   ],
   "source": [
    "wrong   = 0\n",
    "right   = 0\n",
    "\n",
    "predictedTestLabelList = []\n",
    "\n",
    "for i,j in zip(processedTestingLabel,predictedTestLabel):\n",
    "    predictedTestLabelList.append(decodeLabel(j))\n",
    "    \n",
    "    if np.argmax(i) == j:\n",
    "        right = right + 1\n",
    "    else:\n",
    "        wrong = wrong + 1\n",
    "\n",
    "print(\"Errors: \" + str(wrong), \" Correct :\" + str(right))\n",
    "\n",
    "print(\"Testing Accuracy: \" + str(right/(right+wrong)*100))\n",
    "\n",
    "# Please input your UBID and personNumber \n",
    "testDataInput = testingData['input'].tolist()\n",
    "testDataLabel = testingData['label'].tolist()\n",
    "\n",
    "testDataInput.insert(0, \"UBID\")                     #ROW NUMBER 0\n",
    "testDataLabel.insert(0, \"Mayank kulshrestha\")\n",
    "\n",
    "testDataInput.insert(1, \"personNumber\")             #ROW NUMBER 1\n",
    "testDataLabel.insert(1, \"50291406\")\n",
    "\n",
    "predictedTestLabelList.insert(0, \"\")\n",
    "predictedTestLabelList.insert(1, \"\")\n",
    "\n",
    "output = {}\n",
    "output[\"input\"] = testDataInput             #OUTPUT IS A DATAFRAME WITH 3 COLUMNS INPUT, LABELS AND PREDICTED_LABEL. \n",
    "output[\"label\"] = testDataLabel             # WE ASSIGN ALL THE TEST DATA INPUT TO ITS INPUT COLUMN AND \n",
    "                                            #THE EXPECTED LABEL TO THE LABEL COLUMNS\n",
    "\n",
    "output[\"predicted_label\"] = predictedTestLabelList   #PREDICTED LABEL COLUMN CONTAINS WHAT OUR MODEL PREDICTED FOR EACH INPUT.  \n",
    "\n",
    "opdf = pd.DataFrame(output)\n",
    "opdf.to_csv('output.csv')"
   ]
  },
  {
   "cell_type": "code",
   "execution_count": null,
   "metadata": {},
   "outputs": [],
   "source": []
  }
 ],
 "metadata": {
  "kernelspec": {
   "display_name": "Python 3",
   "language": "python",
   "name": "python3"
  },
  "language_info": {
   "codemirror_mode": {
    "name": "ipython",
    "version": 3
   },
   "file_extension": ".py",
   "mimetype": "text/x-python",
   "name": "python",
   "nbconvert_exporter": "python",
   "pygments_lexer": "ipython3",
   "version": "3.5.0"
  }
 },
 "nbformat": 4,
 "nbformat_minor": 2
}
